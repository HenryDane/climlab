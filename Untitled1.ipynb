{
 "cells": [
  {
   "cell_type": "code",
   "execution_count": 1,
   "id": "3c788778",
   "metadata": {},
   "outputs": [],
   "source": [
    "import climlab\n",
    "import numpy as np\n",
    "import matplotlib.pyplot as plt"
   ]
  },
  {
   "cell_type": "code",
   "execution_count": 9,
   "id": "6fa5bf27",
   "metadata": {},
   "outputs": [],
   "source": [
    "state = climlab.column_state(num_lev=10)"
   ]
  },
  {
   "cell_type": "code",
   "execution_count": 10,
   "id": "594b45e5",
   "metadata": {},
   "outputs": [
    {
     "data": {
      "text/plain": [
       "Field([288.])"
      ]
     },
     "execution_count": 10,
     "metadata": {},
     "output_type": "execute_result"
    }
   ],
   "source": [
    "state['Ts']"
   ]
  },
  {
   "cell_type": "code",
   "execution_count": 7,
   "id": "4c4e7780",
   "metadata": {},
   "outputs": [
    {
     "ename": "AttributeError",
     "evalue": "'AplusBT' object has no attribute 'Ts'",
     "output_type": "error",
     "traceback": [
      "\u001b[0;31m---------------------------------------------------------------------------\u001b[0m",
      "\u001b[0;31mAttributeError\u001b[0m                            Traceback (most recent call last)",
      "Cell \u001b[0;32mIn[7], line 2\u001b[0m\n\u001b[1;32m      1\u001b[0m model \u001b[38;5;241m=\u001b[39m climlab\u001b[38;5;241m.\u001b[39mTimeDependentProcess(state\u001b[38;5;241m=\u001b[39mstate)\n\u001b[0;32m----> 2\u001b[0m model\u001b[38;5;241m.\u001b[39madd_subprocess(\u001b[43mclimlab\u001b[49m\u001b[38;5;241;43m.\u001b[39;49m\u001b[43mradiation\u001b[49m\u001b[38;5;241;43m.\u001b[39;49m\u001b[43maplusbt\u001b[49m\u001b[38;5;241;43m.\u001b[39;49m\u001b[43mAplusBT\u001b[49m\u001b[43m(\u001b[49m\u001b[43mstate\u001b[49m\u001b[38;5;241;43m=\u001b[39;49m\u001b[43mstate\u001b[49m\u001b[43m[\u001b[49m\u001b[38;5;124;43m'\u001b[39;49m\u001b[38;5;124;43mTs\u001b[39;49m\u001b[38;5;124;43m'\u001b[39;49m\u001b[43m]\u001b[49m\u001b[43m)\u001b[49m)\n",
      "File \u001b[0;32m~/Documents/_Feldl/climlab/climlab/radiation/aplusbt.py:90\u001b[0m, in \u001b[0;36mAplusBT.__init__\u001b[0;34m(self, A, B, **kwargs)\u001b[0m\n\u001b[1;32m     88\u001b[0m \u001b[38;5;28mself\u001b[39m\u001b[38;5;241m.\u001b[39mA \u001b[38;5;241m=\u001b[39m A\n\u001b[1;32m     89\u001b[0m \u001b[38;5;28mself\u001b[39m\u001b[38;5;241m.\u001b[39mB \u001b[38;5;241m=\u001b[39m B\n\u001b[0;32m---> 90\u001b[0m \u001b[38;5;28mself\u001b[39m\u001b[38;5;241m.\u001b[39madd_diagnostic(\u001b[38;5;124m'\u001b[39m\u001b[38;5;124mOLR\u001b[39m\u001b[38;5;124m'\u001b[39m, \u001b[38;5;241m0.\u001b[39m \u001b[38;5;241m*\u001b[39m \u001b[38;5;28;43mself\u001b[39;49m\u001b[38;5;241;43m.\u001b[39;49m\u001b[43mTs\u001b[49m)\n",
      "\u001b[0;31mAttributeError\u001b[0m: 'AplusBT' object has no attribute 'Ts'"
     ]
    }
   ],
   "source": [
    "model = climlab.TimeDependentProcess(state=state)\n",
    "model.add_subprocess(climlab.radiation.aplusbt.AplusBT(state=state['Ts']))"
   ]
  }
 ],
 "metadata": {
  "kernelspec": {
   "display_name": "Python 3 (ipykernel)",
   "language": "python",
   "name": "python3"
  },
  "language_info": {
   "codemirror_mode": {
    "name": "ipython",
    "version": 3
   },
   "file_extension": ".py",
   "mimetype": "text/x-python",
   "name": "python",
   "nbconvert_exporter": "python",
   "pygments_lexer": "ipython3",
   "version": "3.11.3"
  }
 },
 "nbformat": 4,
 "nbformat_minor": 5
}
