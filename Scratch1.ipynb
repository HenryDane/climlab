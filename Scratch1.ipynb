{
 "cells": [
  {
   "cell_type": "code",
   "execution_count": 1,
   "id": "86d44c36",
   "metadata": {},
   "outputs": [],
   "source": [
    "import climlab\n",
    "import numpy as np\n",
    "import matplotlib.pyplot as plt"
   ]
  },
  {
   "cell_type": "code",
   "execution_count": 2,
   "id": "74aadbfd",
   "metadata": {},
   "outputs": [],
   "source": [
    "model_dims = {'lat':20, 'lon':10, 'lev':30}"
   ]
  },
  {
   "cell_type": "code",
   "execution_count": null,
   "id": "1625475f",
   "metadata": {},
   "outputs": [],
   "source": [
    "def make_volume_domains(num_lev=30, num_lat=30, num_lon=30, water_depth=1.0, **kwargs):\n",
    "    '''\n",
    "    Create 3D volumes\n",
    "    '''\n",
    "    \n",
    "    # make axes\n",
    "    latax = climlab.domain.axis.Axis(axis_type='lat', num_points=num_lat)\n",
    "    lonax = climlab.domain.axis.Axis(axis_type='lon', num_points=num_lon)\n",
    "    levax = climlab.domain.axis.Axis(axis_type='lev', num_points=num_lev)\n",
    "    depax = climlab.domain.axis.Axis(axis_type='depth', bounds=[water_depth, 0.0])\n",
    "    \n",
    "    # make ocean\n",
    "    slab = climlab.domain.domain.SlabOcean(axes={'lat':latax, 'lon':lonax, 'depth':depax}, **kwargs)\n",
    "    \n",
    "    # make atmosphere\n",
    "    atm = climlab.domain.domain.Atmosphere(axes={'lat':latax, 'lon':lonax, 'lev':levax}, **kwargs)\n",
    "    \n",
    "    # return the domains\n",
    "    return slab, atm\n",
    "    \n",
    "def volume_state(num_lev=30, num_lat=30, num_lon=30, water_depth=1.0):\n",
    "    '''\n",
    "    Create a 3D climlab state\n",
    "    '''\n",
    "    \n",
    "    # make domains\n",
    "    sfc, atm = make_volume_domains(num_lev=num_lev, num_lat=num_lat, num_lon=num_lon, water_depth=water_depth)\n",
    "    \n",
    "    # update elevation value\n",
    "    num_lev = atm.lev.num_points\n",
    "    \n",
    "    # make fields\n",
    "    Ts = climlab.domain.field.Field(288.*np.ones(sfc.shape), domain=sfc)\n",
    "    Tinitial = np.tile(np.linspace(200., 288.-10., num_lev), sfc.shape)\n",
    "    Tatm = climlab.domain.field.Field(Tinitial, domain=atm)\n",
    "    \n",
    "    # create state\n",
    "    state = climlab.utils.attrdict.AttrDict()\n",
    "    state['Ts'] = Ts\n",
    "    state['Tatm'] = Tatm\n",
    "    \n",
    "    # return the state\n",
    "    return state    "
   ]
  },
  {
   "cell_type": "code",
   "execution_count": 4,
   "id": "9ac95f37",
   "metadata": {},
   "outputs": [],
   "source": [
    "# make state\n",
    "state = volume_state(num_lat=model_dims['lat'], num_lon=model_dims['lon'], num_lev=model_dims['lev'])"
   ]
  },
  {
   "cell_type": "code",
   "execution_count": 3,
   "id": "2e258f7c",
   "metadata": {},
   "outputs": [],
   "source": [
    "model = climlab.radiation.DailyInsolation(name='Insolation', domains=state['Ts'].domain) "
   ]
  },
  {
   "cell_type": "code",
   "execution_count": 51,
   "id": "fb70049e",
   "metadata": {},
   "outputs": [
    {
     "data": {
      "text/plain": [
       "AttrDict({})"
      ]
     },
     "execution_count": 51,
     "metadata": {},
     "output_type": "execute_result"
    }
   ],
   "source": [
    "model.state"
   ]
  },
  {
   "cell_type": "code",
   "execution_count": null,
   "id": "cfc8847b",
   "metadata": {},
   "outputs": [],
   "source": [
    "state['Tatm'].domain.axis_index['lev']"
   ]
  },
  {
   "cell_type": "code",
   "execution_count": null,
   "id": "fdb8ed3f",
   "metadata": {},
   "outputs": [],
   "source": [
    "state['Tatm'].shape"
   ]
  },
  {
   "cell_type": "code",
   "execution_count": null,
   "id": "a4aa0c37",
   "metadata": {},
   "outputs": [],
   "source": [
    "model.compute_diagnostics()"
   ]
  },
  {
   "cell_type": "code",
   "execution_count": null,
   "id": "4d567927",
   "metadata": {},
   "outputs": [],
   "source": [
    "model.insolation.shape"
   ]
  },
  {
   "cell_type": "code",
   "execution_count": null,
   "id": "2c3ac7d2",
   "metadata": {},
   "outputs": [],
   "source": [
    "plt.plot(model.lon, np.squeeze(model.insolation)[5,:], label='Surface')\n",
    "plt.plot(model.lon, model.insolation[5,:,-1], label='Atmosphere')\n",
    "plt.gca().ticklabel_format(useOffset=False)\n",
    "plt.xlabel('Longitude')\n",
    "plt.ylabel('Temperature (K)')\n",
    "plt.legend()\n",
    "plt.show()"
   ]
  },
  {
   "cell_type": "code",
   "execution_count": null,
   "id": "7eba07fc",
   "metadata": {
    "scrolled": true
   },
   "outputs": [],
   "source": [
    "plt.plot(model.lat, np.squeeze(model.insolation)[:,5], label='Surface')\n",
    "plt.plot(model.lat, model.insolation[:,5,-1], label='Atmosphere')\n",
    "plt.gca().ticklabel_format(useOffset=False)\n",
    "plt.xlabel('Latitude')\n",
    "plt.ylabel('Temperature (K)')\n",
    "plt.legend()\n",
    "plt.show()"
   ]
  },
  {
   "cell_type": "code",
   "execution_count": null,
   "id": "e0a6c54b",
   "metadata": {},
   "outputs": [],
   "source": [
    "state = volume_state(num_lat=model_dims['lat'], num_lon=model_dims['lon'], num_lev=model_dims['lev'])"
   ]
  },
  {
   "cell_type": "code",
   "execution_count": null,
   "id": "c1fbc311",
   "metadata": {},
   "outputs": [],
   "source": [
    "state"
   ]
  },
  {
   "cell_type": "code",
   "execution_count": 5,
   "id": "28964f96",
   "metadata": {
    "scrolled": true
   },
   "outputs": [
    {
     "name": "stderr",
     "output_type": "stream",
     "text": [
      "/home/henryjmo/Documents/_Feldl/climlab/climlab/domain/field.py:278: FutureWarning: elementwise comparison failed; returning scalar instead, but in the future will perform elementwise comparison\n",
      "  if axis == 'lat':\n"
     ]
    },
    {
     "ename": "ValueError",
     "evalue": "operands could not be broadcast together with shapes (10,30,21) (30,) ",
     "output_type": "error",
     "traceback": [
      "\u001b[0;31m---------------------------------------------------------------------------\u001b[0m",
      "\u001b[0;31mValueError\u001b[0m                                Traceback (most recent call last)",
      "Cell \u001b[0;32mIn[5], line 1\u001b[0m\n\u001b[0;32m----> 1\u001b[0m ebm \u001b[38;5;241m=\u001b[39m \u001b[43mclimlab\u001b[49m\u001b[38;5;241;43m.\u001b[39;49m\u001b[43mEBM\u001b[49m\u001b[43m(\u001b[49m\u001b[43mstate\u001b[49m\u001b[38;5;241;43m=\u001b[39;49m\u001b[43mstate\u001b[49m\u001b[43m)\u001b[49m\n",
      "File \u001b[0;32m~/Documents/_Feldl/climlab/climlab/model/ebm.py:271\u001b[0m, in \u001b[0;36mEBM.__init__\u001b[0;34m(self, num_lat, num_lon, S0, s2, A, B, D, water_depth, Tf, a0, a2, ai, timestep, T0, T2, **kwargs)\u001b[0m\n\u001b[1;32m    266\u001b[0m alb \u001b[38;5;241m=\u001b[39m albedo\u001b[38;5;241m.\u001b[39mStepFunctionAlbedo(state\u001b[38;5;241m=\u001b[39m\u001b[38;5;28mself\u001b[39m\u001b[38;5;241m.\u001b[39mstate, \u001b[38;5;241m*\u001b[39m\u001b[38;5;241m*\u001b[39m\u001b[38;5;28mself\u001b[39m\u001b[38;5;241m.\u001b[39mparam)\n\u001b[1;32m    267\u001b[0m sw \u001b[38;5;241m=\u001b[39m SimpleAbsorbedShortwave(state\u001b[38;5;241m=\u001b[39m\u001b[38;5;28mself\u001b[39m\u001b[38;5;241m.\u001b[39mstate,\n\u001b[1;32m    268\u001b[0m                              insolation\u001b[38;5;241m=\u001b[39mins\u001b[38;5;241m.\u001b[39minsolation,\n\u001b[1;32m    269\u001b[0m                              albedo\u001b[38;5;241m=\u001b[39malb\u001b[38;5;241m.\u001b[39malbedo,\n\u001b[1;32m    270\u001b[0m                              \u001b[38;5;241m*\u001b[39m\u001b[38;5;241m*\u001b[39m\u001b[38;5;28mself\u001b[39m\u001b[38;5;241m.\u001b[39mparam)\n\u001b[0;32m--> 271\u001b[0m diff \u001b[38;5;241m=\u001b[39m \u001b[43mMeridionalHeatDiffusion\u001b[49m\u001b[43m(\u001b[49m\u001b[43mstate\u001b[49m\u001b[38;5;241;43m=\u001b[39;49m\u001b[38;5;28;43mself\u001b[39;49m\u001b[38;5;241;43m.\u001b[39;49m\u001b[43mstate\u001b[49m\u001b[43m,\u001b[49m\u001b[43m \u001b[49m\u001b[43muse_banded_solver\u001b[49m\u001b[38;5;241;43m=\u001b[39;49m\u001b[38;5;28;43;01mFalse\u001b[39;49;00m\u001b[43m,\u001b[49m\u001b[43m \u001b[49m\u001b[38;5;241;43m*\u001b[39;49m\u001b[38;5;241;43m*\u001b[39;49m\u001b[38;5;28;43mself\u001b[39;49m\u001b[38;5;241;43m.\u001b[39;49m\u001b[43mparam\u001b[49m\u001b[43m)\u001b[49m\n\u001b[1;32m    272\u001b[0m \u001b[38;5;28mself\u001b[39m\u001b[38;5;241m.\u001b[39madd_subprocess(\u001b[38;5;124m'\u001b[39m\u001b[38;5;124mLW\u001b[39m\u001b[38;5;124m'\u001b[39m, lw)\n\u001b[1;32m    273\u001b[0m \u001b[38;5;28mself\u001b[39m\u001b[38;5;241m.\u001b[39madd_subprocess(\u001b[38;5;124m'\u001b[39m\u001b[38;5;124minsolation\u001b[39m\u001b[38;5;124m'\u001b[39m, ins)\n",
      "File \u001b[0;32m~/Documents/_Feldl/climlab/climlab/dynamics/meridional_heat_diffusion.py:74\u001b[0m, in \u001b[0;36mMeridionalHeatDiffusion.__init__\u001b[0;34m(self, D, use_banded_solver, **kwargs)\u001b[0m\n\u001b[1;32m     71\u001b[0m \u001b[38;5;28msuper\u001b[39m(MeridionalHeatDiffusion, \u001b[38;5;28mself\u001b[39m)\u001b[38;5;241m.\u001b[39m\u001b[38;5;21m__init__\u001b[39m(K\u001b[38;5;241m=\u001b[39m\u001b[38;5;241m1.\u001b[39m,\n\u001b[1;32m     72\u001b[0m                 use_banded_solver\u001b[38;5;241m=\u001b[39muse_banded_solver, \u001b[38;5;241m*\u001b[39m\u001b[38;5;241m*\u001b[39mkwargs)\n\u001b[1;32m     73\u001b[0m \u001b[38;5;66;03m#  Now initialize properly\u001b[39;00m\n\u001b[0;32m---> 74\u001b[0m \u001b[38;5;28;43mself\u001b[39;49m\u001b[38;5;241;43m.\u001b[39;49m\u001b[43mD\u001b[49m \u001b[38;5;241m=\u001b[39m D\n\u001b[1;32m     75\u001b[0m \u001b[38;5;28mself\u001b[39m\u001b[38;5;241m.\u001b[39madd_diagnostic(\u001b[38;5;124m'\u001b[39m\u001b[38;5;124mheat_transport\u001b[39m\u001b[38;5;124m'\u001b[39m, \u001b[38;5;241m0.\u001b[39m\u001b[38;5;241m*\u001b[39m\u001b[38;5;28mself\u001b[39m\u001b[38;5;241m.\u001b[39mdiffusive_flux)\n\u001b[1;32m     76\u001b[0m \u001b[38;5;28mself\u001b[39m\u001b[38;5;241m.\u001b[39madd_diagnostic(\u001b[38;5;124m'\u001b[39m\u001b[38;5;124mheat_transport_convergence\u001b[39m\u001b[38;5;124m'\u001b[39m, \u001b[38;5;241m0.\u001b[39m\u001b[38;5;241m*\u001b[39m\u001b[38;5;28mself\u001b[39m\u001b[38;5;241m.\u001b[39mflux_convergence)\n",
      "File \u001b[0;32m~/Documents/_Feldl/climlab/climlab/dynamics/meridional_heat_diffusion.py:84\u001b[0m, in \u001b[0;36mMeridionalHeatDiffusion.D\u001b[0;34m(self, Dvalue)\u001b[0m\n\u001b[1;32m     81\u001b[0m \u001b[38;5;129m@D\u001b[39m\u001b[38;5;241m.\u001b[39msetter\n\u001b[1;32m     82\u001b[0m \u001b[38;5;28;01mdef\u001b[39;00m \u001b[38;5;21mD\u001b[39m(\u001b[38;5;28mself\u001b[39m, Dvalue):\n\u001b[1;32m     83\u001b[0m     \u001b[38;5;28mself\u001b[39m\u001b[38;5;241m.\u001b[39m_D \u001b[38;5;241m=\u001b[39m Dvalue\n\u001b[0;32m---> 84\u001b[0m     \u001b[38;5;28;43mself\u001b[39;49m\u001b[38;5;241;43m.\u001b[39;49m\u001b[43m_update_diffusivity\u001b[49m\u001b[43m(\u001b[49m\u001b[43m)\u001b[49m\n",
      "File \u001b[0;32m~/Documents/_Feldl/climlab/climlab/dynamics/meridional_heat_diffusion.py:90\u001b[0m, in \u001b[0;36mMeridionalHeatDiffusion._update_diffusivity\u001b[0;34m(self)\u001b[0m\n\u001b[1;32m     88\u001b[0m     heat_capacity \u001b[38;5;241m=\u001b[39m value\u001b[38;5;241m.\u001b[39mdomain\u001b[38;5;241m.\u001b[39mheat_capacity\n\u001b[1;32m     89\u001b[0m \u001b[38;5;66;03m# diffusivity in units of m**2/s\u001b[39;00m\n\u001b[0;32m---> 90\u001b[0m \u001b[38;5;28;43mself\u001b[39;49m\u001b[38;5;241;43m.\u001b[39;49m\u001b[43mK\u001b[49m \u001b[38;5;241m=\u001b[39m \u001b[38;5;28mself\u001b[39m\u001b[38;5;241m.\u001b[39mD \u001b[38;5;241m/\u001b[39m heat_capacity \u001b[38;5;241m*\u001b[39m const\u001b[38;5;241m.\u001b[39ma\u001b[38;5;241m*\u001b[39m\u001b[38;5;241m*\u001b[39m\u001b[38;5;241m2\u001b[39m\n",
      "File \u001b[0;32m~/Documents/_Feldl/climlab/climlab/dynamics/advection_diffusion.py:155\u001b[0m, in \u001b[0;36mAdvectionDiffusion.K\u001b[0;34m(self, Kvalue)\u001b[0m\n\u001b[1;32m    152\u001b[0m \u001b[38;5;129m@K\u001b[39m\u001b[38;5;241m.\u001b[39msetter  \u001b[38;5;66;03m# currently this assumes that Kvalue is scalar or has the right dimensions...\u001b[39;00m\n\u001b[1;32m    153\u001b[0m \u001b[38;5;28;01mdef\u001b[39;00m \u001b[38;5;21mK\u001b[39m(\u001b[38;5;28mself\u001b[39m, Kvalue):\n\u001b[1;32m    154\u001b[0m     \u001b[38;5;28mself\u001b[39m\u001b[38;5;241m.\u001b[39m_K \u001b[38;5;241m=\u001b[39m Kvalue\n\u001b[0;32m--> 155\u001b[0m     \u001b[38;5;28;43mself\u001b[39;49m\u001b[38;5;241;43m.\u001b[39;49m\u001b[43m_compute_advdiff_matrix\u001b[49m\u001b[43m(\u001b[49m\u001b[43m)\u001b[49m\n",
      "File \u001b[0;32m~/Documents/_Feldl/climlab/climlab/dynamics/advection_diffusion.py:180\u001b[0m, in \u001b[0;36mAdvectionDiffusion._compute_advdiff_matrix\u001b[0;34m(self)\u001b[0m\n\u001b[1;32m    179\u001b[0m \u001b[38;5;28;01mdef\u001b[39;00m \u001b[38;5;21m_compute_advdiff_matrix\u001b[39m(\u001b[38;5;28mself\u001b[39m):\n\u001b[0;32m--> 180\u001b[0m     Karray \u001b[38;5;241m=\u001b[39m \u001b[43mnp\u001b[49m\u001b[38;5;241;43m.\u001b[39;49m\u001b[43mones_like\u001b[49m\u001b[43m(\u001b[49m\u001b[38;5;28;43mself\u001b[39;49m\u001b[38;5;241;43m.\u001b[39;49m\u001b[43m_Xbounds\u001b[49m\u001b[43m)\u001b[49m\u001b[43m \u001b[49m\u001b[38;5;241;43m*\u001b[39;49m\u001b[43m \u001b[49m\u001b[38;5;28;43mself\u001b[39;49m\u001b[38;5;241;43m.\u001b[39;49m\u001b[43mK\u001b[49m\n\u001b[1;32m    181\u001b[0m     \u001b[38;5;28;01mtry\u001b[39;00m:\n\u001b[1;32m    182\u001b[0m         Uarray \u001b[38;5;241m=\u001b[39m np\u001b[38;5;241m.\u001b[39mones_like(\u001b[38;5;28mself\u001b[39m\u001b[38;5;241m.\u001b[39m_Xbounds) \u001b[38;5;241m*\u001b[39m \u001b[38;5;28mself\u001b[39m\u001b[38;5;241m.\u001b[39mU\n",
      "\u001b[0;31mValueError\u001b[0m: operands could not be broadcast together with shapes (10,30,21) (30,) "
     ]
    }
   ],
   "source": [
    "ebm = climlab.EBM(state=state)"
   ]
  },
  {
   "cell_type": "code",
   "execution_count": 6,
   "id": "aa0438a0",
   "metadata": {},
   "outputs": [
    {
     "data": {
      "text/plain": [
       "{'lat': 20, 'lon': 10, 'lev': 30}"
      ]
     },
     "execution_count": 6,
     "metadata": {},
     "output_type": "execute_result"
    }
   ],
   "source": [
    "model_dims"
   ]
  },
  {
   "cell_type": "code",
   "execution_count": 24,
   "id": "0a722653",
   "metadata": {},
   "outputs": [],
   "source": [
    "a = np.linspace(0,9,30)"
   ]
  },
  {
   "cell_type": "code",
   "execution_count": 25,
   "id": "7ac1a4a1",
   "metadata": {},
   "outputs": [
    {
     "data": {
      "text/plain": [
       "array([0.        , 0.31034483, 0.62068966, 0.93103448, 1.24137931,\n",
       "       1.55172414, 1.86206897, 2.17241379, 2.48275862, 2.79310345,\n",
       "       3.10344828, 3.4137931 , 3.72413793, 4.03448276, 4.34482759,\n",
       "       4.65517241, 4.96551724, 5.27586207, 5.5862069 , 5.89655172,\n",
       "       6.20689655, 6.51724138, 6.82758621, 7.13793103, 7.44827586,\n",
       "       7.75862069, 8.06896552, 8.37931034, 8.68965517, 9.        ])"
      ]
     },
     "execution_count": 25,
     "metadata": {},
     "output_type": "execute_result"
    }
   ],
   "source": [
    "a"
   ]
  },
  {
   "cell_type": "code",
   "execution_count": 11,
   "id": "b2c9e682",
   "metadata": {},
   "outputs": [],
   "source": [
    "b = np.tile(a, (5,1),)"
   ]
  },
  {
   "cell_type": "code",
   "execution_count": 14,
   "id": "5612ec00",
   "metadata": {},
   "outputs": [
    {
     "data": {
      "text/plain": [
       "(5, 10)"
      ]
     },
     "execution_count": 14,
     "metadata": {},
     "output_type": "execute_result"
    }
   ],
   "source": [
    "b.shape"
   ]
  },
  {
   "cell_type": "code",
   "execution_count": 28,
   "id": "ad79eb6d",
   "metadata": {},
   "outputs": [],
   "source": [
    "axis_index = {'lat': 0, 'lon': 2, 'lev': 1}"
   ]
  },
  {
   "cell_type": "code",
   "execution_count": 29,
   "id": "8fe75b9c",
   "metadata": {},
   "outputs": [],
   "source": [
    "def rev(d : dict):\n",
    "    '''Switches keys and values of dictionary d. Values of d must be hashable.\n",
    "    '''\n",
    "    \n",
    "    return {v : k for k, v in d.items()}"
   ]
  },
  {
   "cell_type": "code",
   "execution_count": 30,
   "id": "43e5b030",
   "metadata": {},
   "outputs": [
    {
     "data": {
      "text/plain": [
       "{0: 'lat', 2: 'lon', 1: 'lev'}"
      ]
     },
     "execution_count": 30,
     "metadata": {},
     "output_type": "execute_result"
    }
   ],
   "source": [
    "rev(axis_index)"
   ]
  },
  {
   "cell_type": "code",
   "execution_count": 31,
   "id": "a0394d0d",
   "metadata": {},
   "outputs": [],
   "source": [
    "shape = (20, 10, 30)"
   ]
  },
  {
   "cell_type": "code",
   "execution_count": 48,
   "id": "87400d56",
   "metadata": {},
   "outputs": [
    {
     "data": {
      "text/plain": [
       "('lat', 0)"
      ]
     },
     "execution_count": 48,
     "metadata": {},
     "output_type": "execute_result"
    }
   ],
   "source": [
    "next(iter(axis_index.items()))"
   ]
  },
  {
   "cell_type": "code",
   "execution_count": 36,
   "id": "ff0aafa3",
   "metadata": {},
   "outputs": [],
   "source": [
    "tile_shape = []\n",
    "raxd = rev(axis_index)\n",
    "ks = list(raxd.keys()); ks.sort()\n",
    "for idx in ks:\n",
    "    if (raxd[idx] == 'lev'):\n",
    "        tile_shape.append(-1)\n",
    "    else:\n",
    "        tile_shape.append(shape[idx])\n",
    "tile_shape = tuple(tile_shape)"
   ]
  },
  {
   "cell_type": "code",
   "execution_count": 37,
   "id": "4c61a225",
   "metadata": {},
   "outputs": [
    {
     "data": {
      "text/plain": [
       "(20, -1, 30)"
      ]
     },
     "execution_count": 37,
     "metadata": {},
     "output_type": "execute_result"
    }
   ],
   "source": [
    "tile_shape"
   ]
  },
  {
   "cell_type": "code",
   "execution_count": 38,
   "id": "e9f5da7f",
   "metadata": {},
   "outputs": [
    {
     "ename": "ValueError",
     "evalue": "negative dimensions are not allowed",
     "output_type": "error",
     "traceback": [
      "\u001b[0;31m---------------------------------------------------------------------------\u001b[0m",
      "\u001b[0;31mValueError\u001b[0m                                Traceback (most recent call last)",
      "Cell \u001b[0;32mIn[38], line 1\u001b[0m\n\u001b[0;32m----> 1\u001b[0m b \u001b[38;5;241m=\u001b[39m \u001b[43mnp\u001b[49m\u001b[38;5;241;43m.\u001b[39;49m\u001b[43mtile\u001b[49m\u001b[43m(\u001b[49m\u001b[43ma\u001b[49m\u001b[43m,\u001b[49m\u001b[43m \u001b[49m\u001b[43mtile_shape\u001b[49m\u001b[43m)\u001b[49m\n",
      "File \u001b[0;32m<__array_function__ internals>:200\u001b[0m, in \u001b[0;36mtile\u001b[0;34m(*args, **kwargs)\u001b[0m\n",
      "File \u001b[0;32m~/anaconda3/envs/climlab-dev/lib/python3.11/site-packages/numpy/lib/shape_base.py:1278\u001b[0m, in \u001b[0;36mtile\u001b[0;34m(A, reps)\u001b[0m\n\u001b[1;32m   1276\u001b[0m     \u001b[38;5;28;01mfor\u001b[39;00m dim_in, nrep \u001b[38;5;129;01min\u001b[39;00m \u001b[38;5;28mzip\u001b[39m(c\u001b[38;5;241m.\u001b[39mshape, tup):\n\u001b[1;32m   1277\u001b[0m         \u001b[38;5;28;01mif\u001b[39;00m nrep \u001b[38;5;241m!=\u001b[39m \u001b[38;5;241m1\u001b[39m:\n\u001b[0;32m-> 1278\u001b[0m             c \u001b[38;5;241m=\u001b[39m \u001b[43mc\u001b[49m\u001b[38;5;241;43m.\u001b[39;49m\u001b[43mreshape\u001b[49m\u001b[43m(\u001b[49m\u001b[38;5;241;43m-\u001b[39;49m\u001b[38;5;241;43m1\u001b[39;49m\u001b[43m,\u001b[49m\u001b[43m \u001b[49m\u001b[43mn\u001b[49m\u001b[43m)\u001b[49m\u001b[38;5;241;43m.\u001b[39;49m\u001b[43mrepeat\u001b[49m\u001b[43m(\u001b[49m\u001b[43mnrep\u001b[49m\u001b[43m,\u001b[49m\u001b[43m \u001b[49m\u001b[38;5;241;43m0\u001b[39;49m\u001b[43m)\u001b[49m\n\u001b[1;32m   1279\u001b[0m         n \u001b[38;5;241m/\u001b[39m\u001b[38;5;241m/\u001b[39m\u001b[38;5;241m=\u001b[39m dim_in\n\u001b[1;32m   1280\u001b[0m \u001b[38;5;28;01mreturn\u001b[39;00m c\u001b[38;5;241m.\u001b[39mreshape(shape_out)\n",
      "\u001b[0;31mValueError\u001b[0m: negative dimensions are not allowed"
     ]
    }
   ],
   "source": [
    "b = np.tile(a, tile_shape)"
   ]
  },
  {
   "cell_type": "code",
   "execution_count": 35,
   "id": "840e3273",
   "metadata": {},
   "outputs": [
    {
     "data": {
      "text/plain": [
       "(20, 1, 900)"
      ]
     },
     "execution_count": 35,
     "metadata": {},
     "output_type": "execute_result"
    }
   ],
   "source": [
    "b.shape"
   ]
  },
  {
   "cell_type": "code",
   "execution_count": 43,
   "id": "81168239",
   "metadata": {},
   "outputs": [
    {
     "data": {
      "text/plain": [
       "(20, 10, 30)"
      ]
     },
     "execution_count": 43,
     "metadata": {},
     "output_type": "execute_result"
    }
   ],
   "source": [
    "np.broadcast_to(a, (shape)).shape"
   ]
  }
 ],
 "metadata": {
  "kernelspec": {
   "display_name": "Python 3 (ipykernel)",
   "language": "python",
   "name": "python3"
  },
  "language_info": {
   "codemirror_mode": {
    "name": "ipython",
    "version": 3
   },
   "file_extension": ".py",
   "mimetype": "text/x-python",
   "name": "python",
   "nbconvert_exporter": "python",
   "pygments_lexer": "ipython3",
   "version": "3.11.3"
  }
 },
 "nbformat": 4,
 "nbformat_minor": 5
}
